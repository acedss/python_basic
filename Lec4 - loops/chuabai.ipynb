{
 "cells": [
  {
   "cell_type": "code",
   "execution_count": 3,
   "metadata": {},
   "outputs": [
    {
     "name": "stdout",
     "output_type": "stream",
     "text": [
      "Menu is: ['1', '2', '3', '4', '5']\n"
     ]
    }
   ],
   "source": [
    "n = int(input(\"Enter the number of favourite foods to add (1 to 3): \"))\n",
    "\n",
    "final_list =[]\n",
    "# if menu < 1 or menu > 3:\n",
    "#     print(\"Invalid input, please enter right number in the menu\")\n",
    "# elif menu == 1:\n",
    "#     a = input(\"Enter favourite food 1: \")\n",
    "#     final_list.insert(0, a)\n",
    "#     print(\"Menu is:\",final_list[0])\n",
    "# elif menu == 2:\n",
    "#     a = input(\"Enter favourite food 1: \")\n",
    "#     b = input(\"Enter favourite food 2: \")\n",
    "#     final_list.insert(0,a)\n",
    "#     final_list.insert(1,b)\n",
    "#     print(\"Menu is:\",final_list)\n",
    "# else:\n",
    "#     a = input(\"Enter favourite food 1: \")\n",
    "#     b = input(\"Enter favourite food 2: \")\n",
    "#     c = input(\"Enter favourite food 3: \")\n",
    "#     final_list.append(a)\n",
    "#     final_list.append(b)\n",
    "#     final_list.append(c)\n",
    "#     print(\"Menu is:\",final_list)\n",
    "\n",
    "for i in range(n):\n",
    "    food = input(f\"Enter favourite food {i + 1}: \")\n",
    "    final_list.append(food)\n",
    "\n",
    "print(\"Menu is:\",final_list)\n"
   ]
  },
  {
   "cell_type": "code",
   "execution_count": 6,
   "metadata": {},
   "outputs": [
    {
     "name": "stdout",
     "output_type": "stream",
     "text": [
      "2\n"
     ]
    }
   ],
   "source": [
    "name = input(\"Enter name: \")\n",
    "phone = int(input(\"Enter phone no.\"))\n",
    "email = str(input(\"Enter email: \"))\n",
    "\n",
    "profile = {\"Name\" : \" \",\"Phone number\" : \" \",\"Email\" : \" \"}\n",
    "\n",
    "profile[\"Name\"] = name\n",
    "profile[\"Phone number\"] = phone\n",
    "profile[\"Email\"] = email\n",
    "\n",
    "print(profile[\"Email\"])"
   ]
  },
  {
   "cell_type": "code",
   "execution_count": 11,
   "metadata": {},
   "outputs": [
    {
     "name": "stdout",
     "output_type": "stream",
     "text": [
      "2\n",
      "Final Dictionary:  {'First': '1va', '2': '2va'}\n"
     ]
    }
   ],
   "source": [
    "a = int(input(\"How many key-value do you want to add (1 to 2): \" ))\n",
    "print(a)\n",
    "final_dic = {}\n",
    "if a < 1 or a > 2: \n",
    "    print(\"Invalid input, plz enter number of pairs to add (1 or 2): \")\n",
    "elif a == 1:\n",
    "    first_key = input(\"Enter first key:\")\n",
    "    first_value = input(\"Enter first vallue: \")\n",
    "    final_dic[first_key] = first_value\n",
    "    print(\"Final Dictionary: \", final_dic)\n",
    "else:\n",
    "    first_key = input(\"Enter first key:\")\n",
    "    first_value = input(\"Enter first vallue: \")\n",
    "    final_dic[first_key] = first_value\n",
    "    second_key = input(\"Enter second key: \")\n",
    "    second_value = input(\"Enter second value:\")\n",
    "    final_dic[second_key] = second_value\n",
    "    print(\"Final Dictionary: \", final_dic)"
   ]
  },
  {
   "cell_type": "code",
   "execution_count": null,
   "metadata": {},
   "outputs": [],
   "source": [
    "a = input(\"Enter the item name: \")\n",
    "b = int(input(\"Enter the quantity: \"))\n",
    "c = float(input(\"Enter the price: \"))\n",
    "\n",
    "shopping_cart = {\"Item name\" : \"\",\"Quantity\": \"\",\"Price\": \"\" }\n",
    "\n",
    "shopping_cart[\"Item name\"] = a\n",
    "shopping_cart[\"Quantity\"] = b\n",
    "shopping_cart[\"Price\"] = c\n",
    "\n",
    "print(\"Result: \",shopping_cart)"
   ]
  }
 ],
 "metadata": {
  "kernelspec": {
   "display_name": "Python 3",
   "language": "python",
   "name": "python3"
  },
  "language_info": {
   "codemirror_mode": {
    "name": "ipython",
    "version": 3
   },
   "file_extension": ".py",
   "mimetype": "text/x-python",
   "name": "python",
   "nbconvert_exporter": "python",
   "pygments_lexer": "ipython3",
   "version": "3.12.3"
  }
 },
 "nbformat": 4,
 "nbformat_minor": 2
}
