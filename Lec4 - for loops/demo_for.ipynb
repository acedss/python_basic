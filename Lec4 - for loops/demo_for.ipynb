{
 "cells": [
  {
   "cell_type": "code",
   "execution_count": null,
   "metadata": {},
   "outputs": [],
   "source": [
    "for a in range(1,3):\n",
    "    print(a)"
   ]
  },
  {
   "cell_type": "code",
   "execution_count": null,
   "metadata": {},
   "outputs": [],
   "source": [
    "for i in range(0,20,2):\n",
    "    print(i)"
   ]
  },
  {
   "cell_type": "code",
   "execution_count": null,
   "metadata": {},
   "outputs": [],
   "source": [
    "for i in range(10):\n",
    "    print(i)"
   ]
  },
  {
   "cell_type": "code",
   "execution_count": null,
   "metadata": {},
   "outputs": [],
   "source": [
    "for i in range(10,0,-1):\n",
    "    print(i)"
   ]
  },
  {
   "cell_type": "code",
   "execution_count": null,
   "metadata": {},
   "outputs": [],
   "source": [
    "list = [\"Jame\", \"Tom\", \"Jack\"]\n",
    "for a in list:\n",
    "    print(a)\n",
    "    print(a + \" is a dick\")"
   ]
  },
  {
   "cell_type": "code",
   "execution_count": null,
   "metadata": {},
   "outputs": [],
   "source": [
    "dict = {\"Jame\": 20, \"Jone\": 30, \"Ha\": \"Ngu\"}\n",
    "\n",
    "for person in dict:\n",
    "    print(f\"Hello, {person}, I think you are {dict[person]} years old\")"
   ]
  },
  {
   "cell_type": "code",
   "execution_count": null,
   "metadata": {},
   "outputs": [],
   "source": [
    "n = int(input(\"Enter n: \"))\n",
    "\n",
    "for i in range(n):\n",
    "    print(i)\n"
   ]
  },
  {
   "cell_type": "code",
   "execution_count": null,
   "metadata": {},
   "outputs": [],
   "source": [
    "#  TInh tong cac so nguyen tu 0 den N \n",
    "n = int(input(\"Enter n: \"))\n",
    "tong = 0\n",
    "for i in range(1, n + 1):\n",
    "    # tong += i # Same as => tong = tong + i\n",
    "    tong += i\n",
    "    print(tong, \" \", i)\n",
    "print(tong)"
   ]
  },
  {
   "cell_type": "code",
   "execution_count": null,
   "metadata": {},
   "outputs": [],
   "source": [
    "# Tinh tong cac so chan tu 1 den n\n",
    "n = int(input(\"Enter N: \"))\n",
    "tong = 0\n",
    "\n",
    "for i in range(2, n + 1, 2):\n",
    "    tong += i\n",
    "\n",
    "print(tong)"
   ]
  },
  {
   "cell_type": "code",
   "execution_count": null,
   "metadata": {},
   "outputs": [],
   "source": [
    "import random as rd\n",
    "\n",
    "n = int(input(\"How many random nums: \"))\n",
    "min = int(input(\"Enter Min: \"))\n",
    "max = int(input(\"Enter Max: \"))\n",
    "\n",
    "output = ''\n",
    "for i in range (n):\n",
    "    rd_num = rd.randint(min, max)\n",
    "    output += f\"random number {i} = {rd_num} ,\"\n",
    "print(output)\n",
    "\n"
   ]
  },
  {
   "cell_type": "code",
   "execution_count": null,
   "metadata": {},
   "outputs": [],
   "source": [
    "#  PRINT TRIANGLE\n",
    "n = int(input(\"enter n: \"))\n",
    "for i in range(n+1):\n",
    "    print(\"*\" * i)"
   ]
  },
  {
   "cell_type": "code",
   "execution_count": null,
   "metadata": {},
   "outputs": [],
   "source": [
    "#  PRINT TRIANGLE\n",
    "n = int(input(\"enter n: \"))\n",
    "for i in range(n+1):\n",
    "    print(f\"{i}\"*i)"
   ]
  },
  {
   "cell_type": "code",
   "execution_count": 1,
   "metadata": {},
   "outputs": [
    {
     "name": "stdout",
     "output_type": "stream",
     "text": [
      "\n",
      "0\n",
      "01\n",
      "012\n",
      "0123\n",
      "01234\n"
     ]
    }
   ],
   "source": [
    "#  PRINT \n",
    "n = int(input(\"enter n: \"))\n",
    "for i in range(n+1):\n",
    "    for j in range(i):\n",
    "        print(j, end=\"\")\n",
    "    print()"
   ]
  },
  {
   "cell_type": "code",
   "execution_count": null,
   "metadata": {},
   "outputs": [],
   "source": [
    "# Centered pyramid\n",
    "n = int(input(\"Enter n: \"))\n"
   ]
  },
  {
   "cell_type": "code",
   "execution_count": 9,
   "metadata": {},
   "outputs": [
    {
     "name": "stdout",
     "output_type": "stream",
     "text": [
      "     1\n",
      "    121\n",
      "   12321\n",
      "  1234321\n",
      " 123454321\n"
     ]
    }
   ],
   "source": [
    "# Centered number pyramid\n",
    "n = int(input(\"Enter n: \"))\n",
    "for i in range(n):\n",
    "    print(\" \" * (n - i), end=\"\")\n",
    "    for j in range(1, i+1):\n",
    "        print(j, end=\"\")\n",
    "    for j in range(i+1 , 0, -1):\n",
    "        print(j, end=\"\")\n",
    "    print()"
   ]
  }
 ],
 "metadata": {
  "kernelspec": {
   "display_name": "3.12.3",
   "language": "python",
   "name": "python3"
  },
  "language_info": {
   "codemirror_mode": {
    "name": "ipython",
    "version": 3
   },
   "file_extension": ".py",
   "mimetype": "text/x-python",
   "name": "python",
   "nbconvert_exporter": "python",
   "pygments_lexer": "ipython3",
   "version": "3.12.3"
  }
 },
 "nbformat": 4,
 "nbformat_minor": 2
}
