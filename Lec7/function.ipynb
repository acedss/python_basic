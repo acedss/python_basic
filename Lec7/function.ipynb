{
 "cells": [
  {
   "cell_type": "code",
   "execution_count": null,
   "metadata": {},
   "outputs": [],
   "source": [
    "'''\n",
    "readability\n",
    "easy to manage\n",
    "moduler structure\n",
    "easy to debug\n",
    "time saving\n",
    "'''"
   ]
  },
  {
   "cell_type": "code",
   "execution_count": 13,
   "metadata": {},
   "outputs": [],
   "source": [
    "# print(\"This is function\")\n",
    "# print(\"THis is function\")\n",
    "# print(\"THis is function\")\n",
    "# print(\"THis is function\")\n",
    "\n",
    "\n",
    "def my_function():\n",
    "    print(\"hell\")\n",
    "\n",
    "my_function()\n",
    "my_function()\n",
    "\n",
    "\n",
    "\n"
   ]
  },
  {
   "cell_type": "code",
   "execution_count": 16,
   "metadata": {},
   "outputs": [],
   "source": [
    "\"\"\"\n",
    "Ban 1:\n",
    "tg choi: 30p\n",
    "gia tien: 50k/h\n",
    "\n",
    "\"\"\"\n",
    "tg_choi = 30\n",
    "gia_tien = 50 * 0.8\n",
    "tong_tien_ban_1 = tg_choi/60 * gia_tien\n",
    "print(tong_tien_ban_1)\n",
    "\n",
    "\"\"\"\n",
    "ban 2:\n",
    "tg choi: 130\n",
    "gia tien: 50k/h\n",
    "\n",
    "\"\"\"\n",
    "tg_choi = 130\n",
    "gia_tien = 50 * 0.8\n",
    "tong_tien_ban_2 = tg_choi/60 * gia_tien\n",
    "print(tong_tien_ban_2)\n",
    "\n",
    "\n"
   ]
  },
  {
   "cell_type": "code",
   "execution_count": 22,
   "metadata": {},
   "outputs": [],
   "source": [
    "ban_can_thanh_toan = {'ban_1': [30, 50], 'ban_2': [130, 50]}\n",
    "\n",
    "for ban in ban_can_thanh_toan:\n",
    "    tg_choi = ban_can_thanh_toan[ban][0]\n",
    "    gia_tien = ban_can_thanh_toan[ban][1]\n",
    "    tong_tien = tg_choi/60 * gia_tien \n",
    "    print(f\"{ban} can thanh toan: {tong_tien}k VND\")\n"
   ]
  },
  {
   "cell_type": "code",
   "execution_count": null,
   "metadata": {},
   "outputs": [],
   "source": [
    "def my_func(name: str):\n",
    "    if not isinstance(name, str):\n",
    "        raise ValueError(\"M ngu vl\")\n",
    "\n",
    "    print(f\"Hello {name}\")\n",
    "\n",
    "my_func(\"Hieu\")\n",
    "my_func(12)"
   ]
  },
  {
   "cell_type": "code",
   "execution_count": 41,
   "metadata": {},
   "outputs": [
    {
     "name": "stdout",
     "output_type": "stream",
     "text": [
      "[10, 20]\n"
     ]
    }
   ],
   "source": [
    "def tinh_tong(a: int, b: int) -> list:\n",
    "    \"\"\"\n",
    "    Tao mot danh sach tu nhung so nguyen a va b\n",
    "    \"\"\"\n",
    "    return [a,b]\n",
    "\n",
    "\n",
    "new_list = tinh_tong(10,20)\n",
    "\n",
    "print(new_list)\n"
   ]
  }
 ],
 "metadata": {
  "kernelspec": {
   "display_name": "3.12.3",
   "language": "python",
   "name": "python3"
  },
  "language_info": {
   "codemirror_mode": {
    "name": "ipython",
    "version": 3
   },
   "file_extension": ".py",
   "mimetype": "text/x-python",
   "name": "python",
   "nbconvert_exporter": "python",
   "pygments_lexer": "ipython3",
   "version": "3.12.3"
  }
 },
 "nbformat": 4,
 "nbformat_minor": 2
}
