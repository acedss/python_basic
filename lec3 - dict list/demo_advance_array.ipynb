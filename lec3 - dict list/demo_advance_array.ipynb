{
 "cells": [
  {
   "cell_type": "code",
   "execution_count": 23,
   "metadata": {},
   "outputs": [
    {
     "name": "stdout",
     "output_type": "stream",
     "text": [
      "[4, 3, 2, 1, 0, 6]\n"
     ]
    }
   ],
   "source": [
    "list = [4,3,2,1,0,6]\n",
    "print(list)"
   ]
  },
  {
   "cell_type": "code",
   "execution_count": null,
   "metadata": {},
   "outputs": [],
   "source": [
    "list.sort(reverse=True)\n",
    "print(list)\n"
   ]
  },
  {
   "cell_type": "code",
   "execution_count": 27,
   "metadata": {},
   "outputs": [
    {
     "name": "stdout",
     "output_type": "stream",
     "text": [
      "[4, 3, 2, 0, 1, 6]\n"
     ]
    }
   ],
   "source": [
    "\n",
    "temp_v = list[3]\n",
    "list[3] = list[4]\n",
    "list[4] = temp_v\n",
    "print(list)"
   ]
  },
  {
   "cell_type": "code",
   "execution_count": null,
   "metadata": {},
   "outputs": [],
   "source": [
    "max_var = max(list)\n",
    "min_var = min(list)\n",
    "sum_v = sum(list)\n",
    "print(f\"Max: {max_var}, sum: {sum_v}\" )\n"
   ]
  },
  {
   "cell_type": "code",
   "execution_count": null,
   "metadata": {},
   "outputs": [],
   "source": [
    "# Exercise: diem = [70,40,60,100]\n",
    "# Viet pt de tinh diem trung binh cua tat ca hoc sinh\n"
   ]
  },
  {
   "cell_type": "code",
   "execution_count": 35,
   "metadata": {},
   "outputs": [
    {
     "name": "stdout",
     "output_type": "stream",
     "text": [
      "(1, 2, '3')\n"
     ]
    }
   ],
   "source": [
    "# print(list)\n",
    "# extend_list = (10,20,30)\n",
    "# [1, True, \"Sdfasdf\"]\n",
    "\n",
    "# list.extend(extend_list)\n",
    "# print(list)\n",
    "\n"
   ]
  }
 ],
 "metadata": {
  "kernelspec": {
   "display_name": "Python 3",
   "language": "python",
   "name": "python3"
  },
  "language_info": {
   "codemirror_mode": {
    "name": "ipython",
    "version": 3
   },
   "file_extension": ".py",
   "mimetype": "text/x-python",
   "name": "python",
   "nbconvert_exporter": "python",
   "pygments_lexer": "ipython3",
   "version": "3.12.3"
  }
 },
 "nbformat": 4,
 "nbformat_minor": 2
}
