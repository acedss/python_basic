{
 "cells": [
  {
   "cell_type": "code",
   "execution_count": 17,
   "metadata": {},
   "outputs": [
    {
     "name": "stdout",
     "output_type": "stream",
     "text": [
      "{'brand': 'Ford', 'color': 'Red', 'year': 1964, 'available': True, 2: 'two'}\n",
      "<class 'dict'>\n"
     ]
    }
   ],
   "source": [
    "# Dictionary\n",
    "\n",
    "car = {\"brand\": \"Ford\", \"color\": \"Red\", \"year\": 1964, \"available\": True, 2: \"two\"}\n",
    "print(car)\n",
    "print(type(car))\n"
   ]
  },
  {
   "cell_type": "code",
   "execution_count": 6,
   "metadata": {},
   "outputs": [
    {
     "name": "stdout",
     "output_type": "stream",
     "text": [
      "Red\n",
      "Blue\n"
     ]
    }
   ],
   "source": [
    "color = car[\"color\"]\n",
    "print(color)\n",
    "\n",
    "#  Change value of a key\n",
    "car[\"color\"] = \"Blue\"\n",
    "\n",
    "color = car[\"color\"]\n",
    "print(color)\n"
   ]
  },
  {
   "cell_type": "code",
   "execution_count": 11,
   "metadata": {},
   "outputs": [
    {
     "name": "stdout",
     "output_type": "stream",
     "text": [
      "{'brand': 'Ford', 'color': 'Red', 'year': 1964}\n",
      "{'brand': 'Ford', 'color': 'Red'}\n",
      "{'brand': 'Ford'}\n"
     ]
    }
   ],
   "source": [
    "print(car)\n",
    "car.popitem()\n",
    "print(car)\n",
    "\n",
    "car.pop(\"color\")\n",
    "print(car)"
   ]
  },
  {
   "cell_type": "code",
   "execution_count": 14,
   "metadata": {},
   "outputs": [
    {
     "name": "stdout",
     "output_type": "stream",
     "text": [
      "Ford\n",
      "Ford\n"
     ]
    }
   ],
   "source": [
    "a = car.get(\"brand\")\n",
    "print(a)\n",
    "print(car['brand'])\n"
   ]
  },
  {
   "cell_type": "code",
   "execution_count": 20,
   "metadata": {},
   "outputs": [
    {
     "name": "stdout",
     "output_type": "stream",
     "text": [
      "Before adjust: {'brand': 'Ford', 'color': 'Red', 'year': 1964, 'available': True, 2: 'two', 'model': 'Mustang'}\n",
      "After adjust: {'brand': 'Ford', 'color': 'Red', 'year': 1964, 'available': True, 2: 'two', 'model': 'Mustang'}\n",
      "Final adjust: {'brand': 'Ford', 'color': 'Red', 'year': 1964, 'available': True, 2: 'two', 'model': 'Ha ngu'}\n"
     ]
    }
   ],
   "source": [
    "#  Add new pair of key and value\n",
    "print(f\"Before adjust: {car}\")\n",
    "car[\"model\"] = \"Mustang\"\n",
    "print(f\"After adjust: {car}\")\n",
    "\n",
    "car[\"model\"] = \"Ha ngu\"\n",
    "print(f\"Final adjust: {car}\")"
   ]
  },
  {
   "cell_type": "code",
   "execution_count": 28,
   "metadata": {},
   "outputs": [
    {
     "name": "stdout",
     "output_type": "stream",
     "text": [
      "dict_keys(['brand', 'color', 'year', 'available', 2, 'model'])\n",
      "dict_values(['Ford', 'Red', 1964, True, 'two', 'Ha ngu'])\n",
      "dict_items([('brand', 'Ford'), ('color', 'Red'), ('year', 1964), ('available', True), (2, 'two'), ('model', 'Ha ngu')])\n"
     ]
    }
   ],
   "source": [
    "print(car.keys())\n",
    "print(car.values())\n",
    "# print(car.items())"
   ]
  },
  {
   "cell_type": "code",
   "execution_count": 32,
   "metadata": {},
   "outputs": [
    {
     "name": "stdout",
     "output_type": "stream",
     "text": [
      "Key la: \"brand\", Giatri la: Ford\n",
      "Key la: \"color\", Giatri la: Red\n",
      "Key la: \"year\", Giatri la: 1964\n",
      "Key la: \"available\", Giatri la: True\n",
      "Key la: \"2\", Giatri la: two\n",
      "Key la: \"model\", Giatri la: Ha ngu\n"
     ]
    }
   ],
   "source": [
    "for pair in car.items():\n",
    "    print(f\"Key la: \\\"{pair[0]}\\\", Giatri la: {pair[1]}\")"
   ]
  },
  {
   "cell_type": "code",
   "execution_count": null,
   "metadata": {},
   "outputs": [],
   "source": []
  }
 ],
 "metadata": {
  "kernelspec": {
   "display_name": "Python 3",
   "language": "python",
   "name": "python3"
  },
  "language_info": {
   "codemirror_mode": {
    "name": "ipython",
    "version": 3
   },
   "file_extension": ".py",
   "mimetype": "text/x-python",
   "name": "python",
   "nbconvert_exporter": "python",
   "pygments_lexer": "ipython3",
   "version": "3.12.3"
  }
 },
 "nbformat": 4,
 "nbformat_minor": 2
}
