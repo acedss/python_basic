{
 "cells": [
  {
   "cell_type": "code",
   "execution_count": 35,
   "metadata": {},
   "outputs": [
    {
     "name": "stdout",
     "output_type": "stream",
     "text": [
      "[2, 3, 4, 5]\n"
     ]
    }
   ],
   "source": [
    "# # demo_list\n",
    "demo_list = [1, \"2\", True, 4,\"2\", 2.2]\n",
    "# # demo_list.append(6)\n",
    "# print(demo_list)\n",
    "\n",
    "# # Add new element to the list by index\n",
    "# demo_list.insert(1, \"new element\")\n",
    "# print(demo_list)\n",
    "\n",
    "# print(len(demo_list))\n",
    "# print(demo_list)\n",
    "# print(demo_list[-4])\n",
    "\n",
    "# # Remove element from the list\n",
    "# demo_list.remove(\"2\")\n",
    "# print(demo_list)\n",
    "\n",
    "# # Remove last element from the list\n",
    "# demo_list.pop()\n",
    "# print(demo_list)\n",
    "\n",
    "# print(demo_list.index(4)) # return index/ position of the element (4)\n",
    "\n",
    "\n",
    "# nếu gán giá trị của 1 list cho 1 biến khác thì khi thay đổi giá trị của biến mới thì giá trị của biến cũ cũng thay đổi theo\n",
    "# copied_list = demo_list\n",
    "# demo_list.append(6)\n",
    "# print(demo_list)\n",
    "# print(\"this is copied list: \", copied_list)  \n",
    "\n",
    "# # Thay vài vào đấy mình sẽ dùng function copy() để tạo ra 1 bản sao của list / không ảnh hưởng đến list gốc\n",
    "# copied_list = demo_list.copy()\n",
    "# demo_list.append(7)\n",
    "# print(demo_list)\n",
    "# print(\"this is copied list: \", copied_list)\n",
    "\n",
    "# # Clear all element in the list\n",
    "# demo_list.clear()\n",
    "# print(demo_list)\n",
    "\n",
    "# # Create a list with the same element\n",
    "# new_list = [0] * 5\n",
    "# print(new_list)\n",
    "\n",
    "# # Concatenate two list\n",
    "list1 = [1, 2, 3, 4]\n",
    "# list2 = [5, 6, 7, 8]?\n",
    "# list3 = list1 + list2\n",
    "# print(list3)\n",
    "\n",
    "# # # Repeat list\n",
    "# list4 = list1 * 3\n",
    "# print(list4)\n",
    "\n",
    "a = \"hello world\"\n",
    "# print(a[0:4]) # h\n",
    "# # # Slicing\n",
    "list5 = [1, 2, 3, 4, 5, 6, 7, 8]\n",
    "# a = list5[1:5] # [2, 3, 4, 5] take element from index 1 to 4 \n",
    "# print(a)\n",
    "\n",
    "b = list5[1:] # [2, 3, 4, 5, 6, 7, 8] take element from index 1 to the end of the list\n",
    "\n",
    "c = list5[:5] # [1, 2, 3, 4, 5] take element from the beginning to index 4\n",
    "\n",
    "\n",
    "\n",
    "\n",
    "\n"
   ]
  }
 ],
 "metadata": {
  "kernelspec": {
   "display_name": "Python 3",
   "language": "python",
   "name": "python3"
  },
  "language_info": {
   "codemirror_mode": {
    "name": "ipython",
    "version": 3
   },
   "file_extension": ".py",
   "mimetype": "text/x-python",
   "name": "python",
   "nbconvert_exporter": "python",
   "pygments_lexer": "ipython3",
   "version": "3.12.3"
  }
 },
 "nbformat": 4,
 "nbformat_minor": 2
}
