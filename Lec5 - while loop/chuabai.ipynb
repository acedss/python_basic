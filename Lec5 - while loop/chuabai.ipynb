{
 "cells": [
  {
   "cell_type": "code",
   "execution_count": null,
   "metadata": {},
   "outputs": [],
   "source": [
    "n = int(input(\"From: \"))\n",
    "k = int(input(\"TO: \"))\n",
    "tong = 0\n",
    "if n % 2 != 0:\n",
    "    n += 1\n",
    "for i in range(n, k+1, 2):\n",
    "    tong += i\n",
    "print(tong)"
   ]
  },
  {
   "cell_type": "code",
   "execution_count": null,
   "metadata": {},
   "outputs": [],
   "source": [
    "#  10 diem\n",
    "number = int(input())\n",
    "for i in range(1, 11):\n",
    "    result = number * i  \n",
    "    print(f\"{number} * {i} = {result}\")"
   ]
  },
  {
   "cell_type": "code",
   "execution_count": null,
   "metadata": {},
   "outputs": [],
   "source": [
    "n = int(input(\"Enter n \"))\n",
    "k = int(input(\"TO: \"))\n",
    "\n",
    "list = []\n",
    "for i in range(n, k+1 ):\n",
    "    result = i ** 2\n",
    "    list.append(result)\n",
    "print(list)\n"
   ]
  },
  {
   "cell_type": "code",
   "execution_count": null,
   "metadata": {},
   "outputs": [],
   "source": [
    "## BAi 4\n",
    "# # COunt by list function\n",
    "# print(list)\n",
    "# a = list.count(1)\n",
    "# print(a)\n",
    "\n",
    "## Count by loop\n",
    "list = []\n",
    "count = 0\n",
    "n = int(input(\"Enter how many element of list: \"))\n",
    "for i in range(n):\n",
    "    list.append(int(input()))\n",
    "print(list)\n",
    "number = int(input(\"Enter number to count: \"))\n",
    "\n",
    "for num in list:\n",
    "    if num == number:\n",
    "        count += 1\n",
    "print(count)\n"
   ]
  },
  {
   "cell_type": "code",
   "execution_count": 47,
   "metadata": {},
   "outputs": [
    {
     "name": "stdout",
     "output_type": "stream",
     "text": [
      "H\n",
      "11\n"
     ]
    }
   ],
   "source": [
    "# Index start from 0\n",
    "string = \"Hello world\"\n",
    "print(string[0])\n",
    "len_str = len(string)\n",
    "print(len_str)\n",
    "\n",
    "for i in range(len(string)-1, -1, 1):\n",
    "    print(string[i], end=\"\")\n"
   ]
  },
  {
   "cell_type": "code",
   "execution_count": 67,
   "metadata": {},
   "outputs": [
    {
     "name": "stdout",
     "output_type": "stream",
     "text": [
      "    010\n",
      "   01210\n",
      "  0123210\n",
      " 012343210\n",
      "01234543210\n"
     ]
    }
   ],
   "source": [
    "n = int(input(\"Enter n: \"))\n",
    "for i in range(1, n+1):\n",
    "    print(\" \" * (n-i), end=\"\")\n",
    "    for j in range(i):\n",
    "        print(j, end=\"\")\n",
    "    for k in range( j+1, 0-1, -1):\n",
    "        print(k, end=\"\")\n",
    "    print()\n"
   ]
  }
 ],
 "metadata": {
  "kernelspec": {
   "display_name": "Python 3",
   "language": "python",
   "name": "python3"
  },
  "language_info": {
   "codemirror_mode": {
    "name": "ipython",
    "version": 3
   },
   "file_extension": ".py",
   "mimetype": "text/x-python",
   "name": "python",
   "nbconvert_exporter": "python",
   "pygments_lexer": "ipython3",
   "version": "3.12.3"
  }
 },
 "nbformat": 4,
 "nbformat_minor": 2
}
