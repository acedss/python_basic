{
 "cells": [
  {
   "cell_type": "code",
   "execution_count": null,
   "metadata": {},
   "outputs": [],
   "source": [
    "n = int(input(\"From: \"))\n",
    "k = int(input(\"TO: \"))\n",
    "tong = 0\n",
    "if n % 2 != 0:\n",
    "    n += 1\n",
    "for i in range(n, k+1, 2):\n",
    "    tong += i\n",
    "print(tong)"
   ]
  },
  {
   "cell_type": "code",
   "execution_count": null,
   "metadata": {},
   "outputs": [],
   "source": [
    "#  10 diem\n",
    "number = int(input())\n",
    "for i in range(1, 11):\n",
    "    result = number * i  \n",
    "    print(f\"{number} * {i} = {result}\")"
   ]
  },
  {
   "cell_type": "code",
   "execution_count": null,
   "metadata": {},
   "outputs": [],
   "source": [
    "n = int(input(\"Enter n \"))\n",
    "k = int(input(\"TO: \"))\n",
    "\n",
    "list = []\n",
    "for i in range(n, k+1 ):\n",
    "    result = i ** 2\n",
    "    list.append(result)\n",
    "print(list)\n"
   ]
  },
  {
   "cell_type": "code",
   "execution_count": null,
   "metadata": {},
   "outputs": [],
   "source": [
    "## BAi 4\n",
    "# # COunt by list function\n",
    "# print(list)\n",
    "# a = list.count(1)\n",
    "# print(a)\n",
    "\n",
    "## Count by loop\n",
    "list = []\n",
    "count = 0\n",
    "n = int(input(\"Enter how many element of list: \"))\n",
    "for i in range(n):\n",
    "    list.append(int(input()))\n",
    "print(list)\n",
    "number = int(input(\"Enter number to count: \"))\n",
    "\n",
    "for num in list:\n",
    "    if num == number:\n",
    "        count += 1\n",
    "print(count)\n"
   ]
  },
  {
   "cell_type": "code",
   "execution_count": 47,
   "metadata": {},
   "outputs": [
    {
     "name": "stdout",
     "output_type": "stream",
     "text": [
      "H\n",
      "11\n"
     ]
    }
   ],
   "source": [
    "# Index start from 0\n",
    "string = \"Hello world\"\n",
    "print(string[0])\n",
    "len_str = len(string)\n",
    "print(len_str)\n",
    "\n",
    "for i in range(len(string)-1, -1, 1):\n",
    "    print(string[i], end=\"\")\n"
   ]
  },
  {
   "cell_type": "code",
   "execution_count": 71,
   "metadata": {},
   "outputs": [
    {
     "name": "stdout",
     "output_type": "stream",
     "text": [
      "    010\n",
      "   01210\n",
      "  0123210\n",
      " 012343210\n",
      "01234543210\n"
     ]
    }
   ],
   "source": [
    "n = int(input(\"Enter n: \"))\n",
    "for i in range(1, n+1):\n",
    "    print(\" \" * (n-i), end=\"\")\n",
    "    for j in range(i):\n",
    "        print(j, end=\"\")\n",
    "    for k in range( i, -1, -1):\n",
    "        print(k, end=\"\")\n",
    "    print()\n"
   ]
  },
  {
   "cell_type": "code",
   "execution_count": 80,
   "metadata": {},
   "outputs": [
    {
     "name": "stdout",
     "output_type": "stream",
     "text": [
      "Pt la: 4x^2 + -2x + -2 = 0\n",
      "PT co 2 nghiem x1 = 1.0, x2 = -0.5\n"
     ]
    }
   ],
   "source": [
    "# Giai PT BAC 2\n",
    "\n",
    "a = int(input(\"Enter a: \"))\n",
    "b = int(input(\"Enter b: \"))\n",
    "c = int(input(\"Enter c: \"))\n",
    "print(f\"Pt la: {a}x^2 + {b}x + {c} = 0\")\n",
    "\n",
    "delta = b**2 - 4*a*c\n",
    "\n",
    "if delta < 0:\n",
    "    print(\"No solution\")\n",
    "elif delta == 0:\n",
    "    x = -b/(2*a)\n",
    "    print(f\"PT co nghiem kep x1 = x2 = {x}\")\n",
    "else:\n",
    "    x1 = (-b + delta**0.5)/(2*a)\n",
    "    x2 = (-b - delta**0.5)/(2*a)\n",
    "    print(f\"PT co 2 nghiem x1 = {x1}, x2 = {x2}\")"
   ]
  }
 ],
 "metadata": {
  "kernelspec": {
   "display_name": "Python 3",
   "language": "python",
   "name": "python3"
  },
  "language_info": {
   "codemirror_mode": {
    "name": "ipython",
    "version": 3
   },
   "file_extension": ".py",
   "mimetype": "text/x-python",
   "name": "python",
   "nbconvert_exporter": "python",
   "pygments_lexer": "ipython3",
   "version": "3.12.3"
  }
 },
 "nbformat": 4,
 "nbformat_minor": 2
}
