{
 "cells": [
  {
   "cell_type": "code",
   "execution_count": null,
   "metadata": {},
   "outputs": [],
   "source": [
    "counter = 0\n",
    "while counter < 5:\n",
    "    print(\"Hello, world\")\n",
    "    counter += 1"
   ]
  },
  {
   "cell_type": "code",
   "execution_count": null,
   "metadata": {},
   "outputs": [],
   "source": [
    "counter = 0\n",
    "output = \"\"\n",
    "while counter < 5:\n",
    "    output +=\"*\"\n",
    "    counter += 1\n",
    "    print(output)\n",
    "print(output)"
   ]
  },
  {
   "cell_type": "code",
   "execution_count": null,
   "metadata": {},
   "outputs": [],
   "source": [
    "i=0\n",
    "while True:\n",
    "    print(i)\n",
    "    i += 1\n",
    "    "
   ]
  },
  {
   "cell_type": "code",
   "execution_count": 11,
   "metadata": {},
   "outputs": [
    {
     "name": "stdout",
     "output_type": "stream",
     "text": [
      "0\n",
      "1\n",
      "2\n",
      "3\n",
      "4\n"
     ]
    }
   ],
   "source": [
    "# break for end loop\n",
    "i=0\n",
    "while True:\n",
    "    print(i)\n",
    "    i += 1\n",
    "    if i >= 5:\n",
    "        break\n",
    "    "
   ]
  },
  {
   "cell_type": "code",
   "execution_count": 15,
   "metadata": {},
   "outputs": [
    {
     "name": "stdout",
     "output_type": "stream",
     "text": [
      "You tapped 0 times\n",
      "You tapped 1 times\n",
      "You tapped 2 times\n",
      "You tapped 3 times\n",
      "You tapped 4 times\n"
     ]
    }
   ],
   "source": [
    "# Using user's input\n",
    "n = 0\n",
    "while True:\n",
    "    user_input = input(\"You want to continue? (y/n)\") # y/n\n",
    "    if user_input == \"n\":\n",
    "        break\n",
    "    print(f\"You tapped {n} times\")\n",
    "    n +=1\n"
   ]
  },
  {
   "cell_type": "code",
   "execution_count": 25,
   "metadata": {},
   "outputs": [
    {
     "name": "stdout",
     "output_type": "stream",
     "text": [
      "------------------------------\n",
      "Welcome to the program\n",
      "Total income: 1010 VND!\n",
      "Total income: 102010 VND!\n",
      "Total income of today is: 102010 VND!\n",
      "Thank you for using the program\n"
     ]
    }
   ],
   "source": [
    "# Calculate income of a store:\n",
    "running = True\n",
    "print(\"-\"*30)\n",
    "print(\"Welcome to the program\")\n",
    "income = 0\n",
    "while running:\n",
    "    price = input(\"Enter the price of the product [enter Q to exit program]: \")\n",
    "    if price == \"Q\" or price == \"q\":\n",
    "        running = False\n",
    "        print(f\"Total income of today is: {income} VND!\")\n",
    "        print(\"Thank you for using the program\")\n",
    "        continue\n",
    "    quantity = input(\"Enter the quantity of the product: \")\n",
    "    income += int(price) * int(quantity)\n",
    "    print(f\"Total income: {income} VND!\")\n"
   ]
  },
  {
   "cell_type": "code",
   "execution_count": 26,
   "metadata": {},
   "outputs": [
    {
     "name": "stdout",
     "output_type": "stream",
     "text": [
      "------------------------------\n",
      "Welcome to the program\n",
      "1. Print Hello\n",
      "2. Print World\n",
      "3. Exit\n",
      "Invalid choice. Please try again!\n",
      "1. Print Hello\n",
      "2. Print World\n",
      "3. Exit\n",
      "Thank you for using the program\n"
     ]
    }
   ],
   "source": [
    "# Print menu and ask user to choose\n",
    "print(\"-\"*30)\n",
    "print(\"Welcome to the program\")\n",
    "running = True\n",
    "while running:\n",
    "    print(\"1. Print Hello\")\n",
    "    print(\"2. Print World\")\n",
    "    print(\"3. Exit\")\n",
    "    choice = input(\"Enter your choice: \")\n",
    "    if choice == \"1\":\n",
    "        print(\"Hello\")\n",
    "    elif choice == \"2\":\n",
    "        print(\"World\")\n",
    "    elif choice == \"3\":\n",
    "        running = False\n",
    "        print(\"Thank you for using the program\")\n",
    "    else:\n",
    "        print(\"Invalid choice. Please try again!\")"
   ]
  }
 ],
 "metadata": {
  "kernelspec": {
   "display_name": "3.12.3",
   "language": "python",
   "name": "python3"
  },
  "language_info": {
   "codemirror_mode": {
    "name": "ipython",
    "version": 3
   },
   "file_extension": ".py",
   "mimetype": "text/x-python",
   "name": "python",
   "nbconvert_exporter": "python",
   "pygments_lexer": "ipython3",
   "version": "3.12.3"
  }
 },
 "nbformat": 4,
 "nbformat_minor": 2
}
